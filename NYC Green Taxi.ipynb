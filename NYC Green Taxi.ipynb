{
 "cells": [
  {
   "cell_type": "code",
   "execution_count": 1,
   "metadata": {},
   "outputs": [],
   "source": [
    "import pandas as pd\n",
    "import numpy as np\n",
    "import datetime as dt\n",
    "import matplotlib.pyplot as plt\n",
    "import os, json, requests, pickle\n",
    "from scipy.stats import skew\n",
    "from shapely.geometry import Point,Polygon,MultiPoint,MultiPolygon\n",
    "from scipy.stats import ttest_ind, f_oneway, lognorm, levy, skew, chisquare\n",
    "from sklearn.preprocessing import normalize, scale\n",
    "from tabulate import tabulate #for printing pretty tables\n",
    "from shapely.geometry import Point,Polygon,MultiPoint\n",
    "%matplotlib inline\n",
    "\n",
    "import warnings \n",
    "warnings.filterwarnings('ignore')"
   ]
  },
  {
   "cell_type": "markdown",
   "metadata": {},
   "source": [
    "# NYC Green Taxi\n",
    "\n",
    "Welcome! In this notebook, we will explore data from the New York City Green Taxi, the city's platform which uploads monthly datasets detailing Green Taxis' trips in and around the city. I have selected to work with the [December 2018](https://www1.nyc.gov/site/tlc/about/tlc-trip-record-data.page). Briefly, this study consists of some Explolatory Data Analysis (EDA) and model building that would predict the percentage tip a driver would expect on each trip. The below code chunk loads the dataset (with a local path) and prints out its dimensions (number of rows and columns). Some of the libraries worth pointing out include but are not limited to:\n",
    "\n",
    "[shapely](https://pypi.org/search/?q=pandas)\n",
    "\n",
    "[scikitlearn](https://scikit-learn.org/stable/)\n",
    "\n",
    "[Tabulate](https://txt.arboreus.com/2013/03/13/pretty-print-tables-in-python.html)"
   ]
  },
  {
   "cell_type": "markdown",
   "metadata": {},
   "source": [
    "## Warm Up Questions\n",
    " The few following code chunks will explore different questions one could ask about the dataset. Questions such as how many predictors or observations are we dealing with in this study, the distribution of some of the continuous variables like trip distance (very important variables to look at when predicting the tip percentage to be paid), the relationship the trip's datetime and distance traveled, meaning when do we seem to see longer trips being made? morning? Or evening hours?"
   ]
  },
  {
   "cell_type": "code",
   "execution_count": 2,
   "metadata": {},
   "outputs": [
    {
     "name": "stdout",
     "output_type": "stream",
     "text": [
      "Number of rows: 685373\n",
      "Number of columns: 19\n"
     ]
    }
   ],
   "source": [
    "url = \"https://s3.amazonaws.com/nyc-tlc/trip+data/green_tripdata_2018-12.csv\"\n",
    "data = pd.read_csv(url)\n",
    "data.to_csv(url.split('/')[-1])\n",
    "\n",
    "\n",
    "# Print the size of the dataset\n",
    "print(\"Number of rows:\", data.shape[0]) # Number of rows\n",
    "print(\"Number of columns:\", data.shape[1]) # Number of columns\n",
    "\n",
    "# create backup dataset\n",
    "backup_data = data.copy()"
   ]
  },
  {
   "cell_type": "code",
   "execution_count": 3,
   "metadata": {},
   "outputs": [
    {
     "data": {
      "text/html": [
       "<div>\n",
       "<style scoped>\n",
       "    .dataframe tbody tr th:only-of-type {\n",
       "        vertical-align: middle;\n",
       "    }\n",
       "\n",
       "    .dataframe tbody tr th {\n",
       "        vertical-align: top;\n",
       "    }\n",
       "\n",
       "    .dataframe thead th {\n",
       "        text-align: right;\n",
       "    }\n",
       "</style>\n",
       "<table border=\"1\" class=\"dataframe\">\n",
       "  <thead>\n",
       "    <tr style=\"text-align: right;\">\n",
       "      <th></th>\n",
       "      <th>VendorID</th>\n",
       "      <th>lpep_pickup_datetime</th>\n",
       "      <th>lpep_dropoff_datetime</th>\n",
       "      <th>store_and_fwd_flag</th>\n",
       "      <th>RatecodeID</th>\n",
       "      <th>PULocationID</th>\n",
       "      <th>DOLocationID</th>\n",
       "      <th>passenger_count</th>\n",
       "      <th>trip_distance</th>\n",
       "      <th>fare_amount</th>\n",
       "      <th>extra</th>\n",
       "      <th>mta_tax</th>\n",
       "      <th>tip_amount</th>\n",
       "      <th>tolls_amount</th>\n",
       "      <th>ehail_fee</th>\n",
       "      <th>improvement_surcharge</th>\n",
       "      <th>total_amount</th>\n",
       "      <th>payment_type</th>\n",
       "      <th>trip_type</th>\n",
       "    </tr>\n",
       "  </thead>\n",
       "  <tbody>\n",
       "    <tr>\n",
       "      <th>0</th>\n",
       "      <td>2</td>\n",
       "      <td>2018-12-01 00:23:25</td>\n",
       "      <td>2018-12-01 00:24:47</td>\n",
       "      <td>N</td>\n",
       "      <td>1</td>\n",
       "      <td>193</td>\n",
       "      <td>193</td>\n",
       "      <td>1</td>\n",
       "      <td>0.00</td>\n",
       "      <td>3.0</td>\n",
       "      <td>0.5</td>\n",
       "      <td>0.5</td>\n",
       "      <td>0.00</td>\n",
       "      <td>0.0</td>\n",
       "      <td>NaN</td>\n",
       "      <td>0.3</td>\n",
       "      <td>4.30</td>\n",
       "      <td>2</td>\n",
       "      <td>1.0</td>\n",
       "    </tr>\n",
       "    <tr>\n",
       "      <th>1</th>\n",
       "      <td>2</td>\n",
       "      <td>2018-11-30 23:58:31</td>\n",
       "      <td>2018-12-01 00:21:53</td>\n",
       "      <td>N</td>\n",
       "      <td>1</td>\n",
       "      <td>80</td>\n",
       "      <td>82</td>\n",
       "      <td>2</td>\n",
       "      <td>5.75</td>\n",
       "      <td>21.0</td>\n",
       "      <td>0.5</td>\n",
       "      <td>0.5</td>\n",
       "      <td>0.00</td>\n",
       "      <td>0.0</td>\n",
       "      <td>NaN</td>\n",
       "      <td>0.3</td>\n",
       "      <td>22.30</td>\n",
       "      <td>2</td>\n",
       "      <td>1.0</td>\n",
       "    </tr>\n",
       "    <tr>\n",
       "      <th>2</th>\n",
       "      <td>2</td>\n",
       "      <td>2018-12-01 00:21:03</td>\n",
       "      <td>2018-12-01 00:30:15</td>\n",
       "      <td>N</td>\n",
       "      <td>1</td>\n",
       "      <td>225</td>\n",
       "      <td>225</td>\n",
       "      <td>1</td>\n",
       "      <td>1.55</td>\n",
       "      <td>8.0</td>\n",
       "      <td>0.5</td>\n",
       "      <td>0.5</td>\n",
       "      <td>1.86</td>\n",
       "      <td>0.0</td>\n",
       "      <td>NaN</td>\n",
       "      <td>0.3</td>\n",
       "      <td>11.16</td>\n",
       "      <td>1</td>\n",
       "      <td>1.0</td>\n",
       "    </tr>\n",
       "    <tr>\n",
       "      <th>3</th>\n",
       "      <td>2</td>\n",
       "      <td>2018-12-01 00:15:56</td>\n",
       "      <td>2018-12-01 00:23:26</td>\n",
       "      <td>N</td>\n",
       "      <td>1</td>\n",
       "      <td>75</td>\n",
       "      <td>236</td>\n",
       "      <td>2</td>\n",
       "      <td>1.32</td>\n",
       "      <td>7.0</td>\n",
       "      <td>0.5</td>\n",
       "      <td>0.5</td>\n",
       "      <td>0.00</td>\n",
       "      <td>0.0</td>\n",
       "      <td>NaN</td>\n",
       "      <td>0.3</td>\n",
       "      <td>8.30</td>\n",
       "      <td>1</td>\n",
       "      <td>1.0</td>\n",
       "    </tr>\n",
       "    <tr>\n",
       "      <th>4</th>\n",
       "      <td>2</td>\n",
       "      <td>2018-12-01 00:28:32</td>\n",
       "      <td>2018-12-01 00:30:33</td>\n",
       "      <td>N</td>\n",
       "      <td>1</td>\n",
       "      <td>75</td>\n",
       "      <td>75</td>\n",
       "      <td>2</td>\n",
       "      <td>0.68</td>\n",
       "      <td>4.0</td>\n",
       "      <td>0.5</td>\n",
       "      <td>0.5</td>\n",
       "      <td>1.06</td>\n",
       "      <td>0.0</td>\n",
       "      <td>NaN</td>\n",
       "      <td>0.3</td>\n",
       "      <td>6.36</td>\n",
       "      <td>1</td>\n",
       "      <td>1.0</td>\n",
       "    </tr>\n",
       "  </tbody>\n",
       "</table>\n",
       "</div>"
      ],
      "text/plain": [
       "   VendorID lpep_pickup_datetime lpep_dropoff_datetime store_and_fwd_flag  \\\n",
       "0         2  2018-12-01 00:23:25   2018-12-01 00:24:47                  N   \n",
       "1         2  2018-11-30 23:58:31   2018-12-01 00:21:53                  N   \n",
       "2         2  2018-12-01 00:21:03   2018-12-01 00:30:15                  N   \n",
       "3         2  2018-12-01 00:15:56   2018-12-01 00:23:26                  N   \n",
       "4         2  2018-12-01 00:28:32   2018-12-01 00:30:33                  N   \n",
       "\n",
       "   RatecodeID  PULocationID  DOLocationID  passenger_count  trip_distance  \\\n",
       "0           1           193           193                1           0.00   \n",
       "1           1            80            82                2           5.75   \n",
       "2           1           225           225                1           1.55   \n",
       "3           1            75           236                2           1.32   \n",
       "4           1            75            75                2           0.68   \n",
       "\n",
       "   fare_amount  extra  mta_tax  tip_amount  tolls_amount  ehail_fee  \\\n",
       "0          3.0    0.5      0.5        0.00           0.0        NaN   \n",
       "1         21.0    0.5      0.5        0.00           0.0        NaN   \n",
       "2          8.0    0.5      0.5        1.86           0.0        NaN   \n",
       "3          7.0    0.5      0.5        0.00           0.0        NaN   \n",
       "4          4.0    0.5      0.5        1.06           0.0        NaN   \n",
       "\n",
       "   improvement_surcharge  total_amount  payment_type  trip_type  \n",
       "0                    0.3          4.30             2        1.0  \n",
       "1                    0.3         22.30             2        1.0  \n",
       "2                    0.3         11.16             1        1.0  \n",
       "3                    0.3          8.30             1        1.0  \n",
       "4                    0.3          6.36             1        1.0  "
      ]
     },
     "execution_count": 3,
     "metadata": {},
     "output_type": "execute_result"
    }
   ],
   "source": [
    "data.head()"
   ]
  },
  {
   "cell_type": "code",
   "execution_count": 33,
   "metadata": {},
   "outputs": [
    {
     "data": {
      "image/png": "[encoded data removed]",
      "text/plain": [
       "<Figure size 1080x288 with 2 Axes>"
      ]
     },
     "metadata": {
      "needs_background": "light"
     },
     "output_type": "display_data"
    }
   ],
   "source": [
    "# define the figure with 2 subplots\n",
    "fig,ax = plt.subplots(1,2,figsize=(15,4))\n",
    "\n",
    "# Distribution of trip distance as a histogram plot\n",
    "data.trip_distance.hist(bins=30,ax=ax[0])\n",
    "ax[0].set_xlabel('Trip Distance (miles)')\n",
    "ax[0].set_ylabel('Count')\n",
    "ax[0].set_yscale('log')\n",
    "ax[0].set_title('Histogram of Trip Distance with outliers included')\n",
    "\n",
    "# define trip distance as a vector v\n",
    "v = data.trip_distance\n",
    "# exclude any data located further than 3 standard deviation away from the mean\n",
    "v[~((v-v.median()).abs()>3*v.std())].hist(bins=30,ax=ax[1])\n",
    "ax[1].set_xlabel('Trip Distance (miles)')\n",
    "ax[1].set_ylabel('Count')\n",
    "ax[1].set_title('Histogram of Trip Distance without outliers')\n",
    "\n",
    "# apply a lognormal fit using the mean of trip distance as the scale parameter\n",
    "scatter,loc,mean = lognorm.fit(data.trip_distance.values,\n",
    "                              scale=data.trip_distance.mean(),\n",
    "                              loc=0)\n",
    "pdf_fitted = lognorm.pdf(np.arange(0,12,0.1), scatter,loc,mean)\n",
    "ax[1].plot(np.arange(0,12,0.1),400000*pdf_fitted,'r')\n",
    "ax[1].legend(['data','lognormal fit'])\n",
    "\n",
    "# export the figure\n",
    "plt.savefig('Question2.jpeg', format='jpeg')\n",
    "plt.show()"
   ]
  },
  {
   "cell_type": "markdown",
   "metadata": {},
   "source": [
    "To the right, outliers have been removed and the trip distance variable is asymmetrically distributed (shows right skewness), meaning the median is greater than the mean. The trip distance traveled cannot be negative. To the left, the histogram depicts the entire raw data for trip distance which includes outliers. Outliers were defined as any point located 3 standard deviations away from the mean."
   ]
  },
  {
   "cell_type": "markdown",
   "metadata": {},
   "source": [
    "Below, I will convert pick up and dropoff times to their right format then plot some useful visualizations to study the relationship between the distance traveled and time of day."
   ]
  },
  {
   "cell_type": "code",
   "execution_count": 4,
   "metadata": {},
   "outputs": [
    {
     "data": {
      "image/png": "[encoded data removed]",
      "text/plain": [
       "<Figure size 648x360 with 1 Axes>"
      ]
     },
     "metadata": {
      "needs_background": "light"
     },
     "output_type": "display_data"
    },
    {
     "name": "stdout",
     "output_type": "stream",
     "text": [
      "-----Trip distance by hour of the day-----\n",
      "\n",
      "  Hour    Mean distance    Median distance\n",
      "------  ---------------  -----------------\n",
      "     0          2.86262               1.84\n",
      "     1          2.80991               1.78\n",
      "     2          2.96341               1.84\n",
      "     3          3.29851               2.02\n",
      "     4          3.98302               2.41\n",
      "     5          5.73226               3.68\n",
      "     6          6.36733               4.14\n",
      "     7          4.62449               2.82\n",
      "     8          3.9326                2.34\n",
      "     9          3.86883               2.3\n",
      "    10          3.82598               2.21\n",
      "    11          3.7578                2.18\n",
      "    12          3.7853                2.19\n",
      "    13          3.63649               2.09\n",
      "    14          3.56566               2.04\n",
      "    15          3.4641                1.98\n",
      "    16          3.53948               1.94\n",
      "    17          3.18084               1.81\n",
      "    18          2.85526               1.7\n",
      "    19          2.79707               1.67\n",
      "    20          2.88172               1.72\n",
      "    21          2.91834               1.78\n",
      "    22          2.97302               1.86\n",
      "    23          2.9019                1.83\n"
     ]
    }
   ],
   "source": [
    "# convert pickup and dropoff features into the right format\n",
    "data['Pickup_dt'] = data.lpep_pickup_datetime.apply(lambda x:dt.datetime.strptime(x,\"%Y-%m-%d %H:%M:%S\"))\n",
    "data['Dropoff_dt'] = data.lpep_dropoff_datetime.apply(lambda x:dt.datetime.strptime(x,\"%Y-%m-%d %H:%M:%S\"))\n",
    "\n",
    "# creating a variable for pickup hours\n",
    "data['Pickup_hour'] = data.Pickup_dt.apply(lambda x:x.hour)\n",
    "\n",
    "# Mean and Median of trip distance by pickup hour\n",
    "# An intuitive table along with a visualization plot will be constructed below\n",
    "\n",
    "fig,ax = plt.subplots(1,1,figsize=(9,5)) # prepare fig to plot mean and median values\n",
    "# use a pivot table to aggregate trip distance by pickup hour\n",
    "table_pivot = data.pivot_table(index='Pickup_hour', values='trip_distance',\n",
    "                              aggfunc=('mean','median')).reset_index()\n",
    "# renaming columns\n",
    "table_pivot.columns = ['Hour','Mean_distance','Median_distance']\n",
    "table_pivot[['Mean_distance','Median_distance']].plot(ax=ax)\n",
    "plt.xlabel(\"Hour of Day\")\n",
    "plt.ylabel('Distance (miles)')\n",
    "plt.title('Distribution of Trip Distance by pickup hour')\n",
    "# defining x-axis limits\n",
    "plt.xlim([0,23])\n",
    "plt.savefig('Question3_1.jpeg', format='jpeg')\n",
    "plt.show()\n",
    "# printing table with tabulate and plotting time series graph\n",
    "print('-----Trip distance by hour of the day-----\\n')\n",
    "print(tabulate(table_pivot.values.tolist(),[\"Hour\",\"Mean distance\",\"Median distance\"]))"
   ]
  },
  {
   "cell_type": "markdown",
   "metadata": {},
   "source": [
    "From the plot or table, we observe a mean/median increase in miles traveled early in the mornings throughout the month of December 2018. This could mean many customers are rushing to work during those times.The same trend is not seen in evening hours maybe because not all customers get off work at the same time (5 pm being standard).\n",
    "\n",
    "**Let's explore trips to/from both JFK and Newark (NJ) airports next**\n",
    "\n",
    "As the [variable dictionary](https://www1.nyc.gov/assets/tlc/downloads/pdf/data_dictionary_trip_records_green.pdf) defines it, there were two airports: JFK (represented by the dummy variable \"2\") and Newark (represented by the dummy variable \"3\"). The below chunk looks at the number of trips made to/from both airports, the mean fare amount charged, and the average total amount (before tips) charged to customers."
   ]
  },
  {
   "cell_type": "code",
   "execution_count": 5,
   "metadata": {},
   "outputs": [
    {
     "name": "stdout",
     "output_type": "stream",
     "text": [
      "Number of trips to/from both airports:  1525\n",
      "Average fare (calculated by meter) of trips to/from both airports: $ 51.2 per trip\n",
      "Average total amount charged (before tip) to/from both airports: $ 63.42 per trip\n"
     ]
    }
   ],
   "source": [
    "# select airport trips\n",
    "airport_trips = data[(data.RatecodeID == 2) | (data.RatecodeID == 3)]\n",
    "print(\"Number of trips to/from both airports: \", airport_trips.shape[0])\n",
    "print(\"Average fare (calculated by meter) of trips to/from both airports: $\", round(airport_trips.fare_amount.mean(),2),\"per trip\")\n",
    "print(\"Average total amount charged (before tip) to/from both airports: $\", round(airport_trips.total_amount.mean(), 2),\"per trip\")"
   ]
  },
  {
   "cell_type": "markdown",
   "metadata": {},
   "source": [
    "The fare amount is not the same as the total amount charged maybe because the meter only takes into account the distance traveled and not the time spent on the road. Next, I will visualize the distribution of distance traveled to/from both airports in relation to time of day."
   ]
  },
  {
   "cell_type": "code",
   "execution_count": 6,
   "metadata": {},
   "outputs": [
    {
     "data": {
      "image/png": "[encoded data removed]",
      "text/plain": [
       "<Figure size 1080x288 with 2 Axes>"
      ]
     },
     "metadata": {
      "needs_background": "light"
     },
     "output_type": "display_data"
    }
   ],
   "source": [
    "# creating vector to contain trip distance\n",
    "t = airport_trips.trip_distance # airport trips\n",
    "z = data.loc[~data.index.isin(t.index),'trip_distance'] # non-airport trips\n",
    "\n",
    "# Getting rid of outliers in both vectors\n",
    "# I will exclude any points located 3 standard deviations away from the mean\n",
    "t = t[~((t-t.mean()).abs()>3*t.std())]\n",
    "z = z[~((z-z.mean()).abs()>3*z.std())]\n",
    "\n",
    "# defining bins boundaries\n",
    "bins = np.histogram(t,normed=True)[1]\n",
    "h2 = np.histogram(t,bins=bins,normed=True)\n",
    "h3 = np.histogram(z,bins=bins,normed=True)\n",
    "\n",
    "# plot distributions of trip distance normalized among groups\n",
    "fig,ax = plt.subplots(1,2,figsize=(15,4))\n",
    "g = .4*(bins[1]-bins[0])\n",
    "ax[0].bar(bins[:-1],h2[0],alpha=1,width=g,color='g')\n",
    "ax[0].bar(bins[:-1]+g,h3[0],alpha=1,width=g,color='b')\n",
    "ax[0].set_title('A. Trip distance distribution')\n",
    "ax[0].set_xlabel('Trip Distance (miles)')\n",
    "ax[0].set_ylabel('Scaled Trip Counts')\n",
    "ax[0].legend(['Airport trips', 'Non-Airport trips'],loc='best',title='Group')\n",
    "\n",
    "# plot hourly distribution\n",
    "airport_trips.Pickup_hour.value_counts(normalize=True).sort_index().plot(ax=ax[1], color='g')\n",
    "data.loc[~data.index.isin(t.index),'Pickup_hour'].value_counts(normalize=True).sort_index().plot(ax=ax[1], color='b')\n",
    "ax[1].set_title('B. Hourly Distribution of trips')\n",
    "ax[1].set_xlabel('Hour of Day')\n",
    "ax[1].set_ylabel('Scaled Trip Counts')\n",
    "ax[1].legend(['Airport trips','Non-Airport trips'],loc='best',title='Group')\n",
    "plt.savefig('Question3_2.jpeg', format='jpeg')\n",
    "plt.show()"
   ]
  },
  {
   "cell_type": "markdown",
   "metadata": {},
   "source": [
    "The plot on the **left** shows scaled trip counts in relation to the trip's distance. obviously, there would be multiple non-airport trips as most folks just move around the city and not necessarily headed for either of the airports. This is explained by the two tall bars at the beginning, where the non-airport bar (blue) might mean customers were moving around manhattan whereas the airport trips (green) might mean airport employees, living in the airport proximities, would need the green taxi to get to/from work OR just usual customers going to/from the airports. We also see a tall Green bar at about 18 miles range, which might represent customers coming from/going to either airports from/to their homes in manhattan or elsewhere.\n",
    "\n",
    "The plot on the **right** shows scaled trip counts in relation to the hour of day. For the airport trips, we see two peaks, both around 5AM and 3PM, the usual times a customer is required to be at the airport for checkins whether they are flying in the morning or evening. For the non-airport trips, there is a bump in trip counts both in the mornings and evenings, meaning customers are going to work and coming from work respectively."
   ]
  },
  {
   "cell_type": "markdown",
   "metadata": {},
   "source": [
    "# Introduction\n",
    "The original dataset is comprised of **685373** observartions and **19** variables (both categorical and continuous). This study follows 4 main sections: Data cleaning, feature engineering, explolatory data analysis, and finally model building. For model building, both **RandomForest** and **Gradient Boosting** algorithms were optimized and used to predict percentage tip. The decision to use These models came from analyzing the relationship between predictor variables and response (percentage tip) variable. The relationship in question was found to be non-linear, so I decided to use models that do not require there to be any assumptions. Tree-Based methods such as *RF* and *Gradient Boosting* are suitable for this task.\n",
    "## Data Cleaning\n",
    "The cleaning process consisted of replacing missing values using appropriate missing value imputation techniques such as using the **Mean** for continuous covariates or **Mode** for categorical covariates. \n",
    "\n",
    "* During this process, I dropped the **Ehail_fee** variable as it was 100% comprised of missing values therefore had no variance. \n",
    "* The two missing values in the *trip_type* variable were replace by the most occuring value (mode). **Used: data.isnull().sum()**\n",
    "* Invalid data for certain columns:\n",
    "    * Per the variable disctionary, there is not supposed to be a **99** as a dummy value for **RatecodeID**, so I replaced the three 99s with the most occuring value. **Used: (data['extra'].count_values().sum())**\n",
    "    * Extra: 0.09% of transactions were negative. These were replaced by 0 as the most frequent. **Used: (sum(i for i in data.improvement_surcharge if i < 0)**\n",
    "    * For continuous variables, if a negative value was found, it was replaced by its absolute value (assuming a data entry error was made) since transaction amounts cannot be negative. Additionally, as the minimum total_amount chargeable for any taxi service is $2.5$, every transaction falling below this value was replaced by the median of total_amount (median=$12.18$).\n"
   ]
  },
  {
   "cell_type": "markdown",
   "metadata": {},
   "source": [
    "**Reloading the dataset here below:**"
   ]
  },
  {
   "cell_type": "code",
   "execution_count": 2,
   "metadata": {},
   "outputs": [
    {
     "name": "stdout",
     "output_type": "stream",
     "text": [
      "Number of rows: 685373\n",
      "Number of columns: 19\n"
     ]
    }
   ],
   "source": [
    "url = \"https://s3.amazonaws.com/nyc-tlc/trip+data/green_tripdata_2018-12.csv\"\n",
    "data = pd.read_csv(url)\n",
    "data.to_csv(url.split('/')[-1])\n",
    "\n",
    "\n",
    "# Print the size of the dataset\n",
    "print(\"Number of rows:\", data.shape[0]) # Number of rows\n",
    "print(\"Number of columns:\", data.shape[1]) # Number of columns\n",
    "\n",
    "# create backup dataset\n",
    "backup_data = data.copy()"
   ]
  },
  {
   "cell_type": "code",
   "execution_count": 3,
   "metadata": {},
   "outputs": [],
   "source": [
    "# define a function to clean the dataset\n",
    "\n",
    "def clean_data(adata):\n",
    "    \"\"\"\n",
    "    This function cleans the dataset by removing unncessasary variables, replacing missing values with meaningful\n",
    "    values, getting rid of negative amount values and converting the time variable into its right format.\n",
    "    input:\n",
    "        adata: pandas.dataframe\n",
    "    output:\n",
    "        pandas.dataframe\n",
    "    \"\"\"\n",
    "    ## drop ehail_fee column\n",
    "    if 'ehail_fee' in data.columns:\n",
    "        data.drop('ehail_fee',axis=1,inplace=True)\n",
    "        \n",
    "    ## replace missing values in trip_type with the most frequent value 1\n",
    "    data['trip_type']=data['trip_type'].replace(np.NaN,1)\n",
    "    \n",
    "    ## replace all values that are not allowed as per the variable dictionary with the most frequent allowable value\n",
    "    ### percentages of negative values per column\n",
    "    print(\"Negative values found and replaced by their absolute values\")\n",
    "    print(\"total_amount\", 100*data[data.total_amount<0].shape[0]/float(data.shape[0]),\"%\")\n",
    "    print(\"tip_amount\", 100*data[data.tip_amount<0].shape[0]/float(data.shape[0]),\"%\")\n",
    "    print(\"fare_amount\", 100*data[data.fare_amount<0].shape[0]/float(data.shape[0]),\"%\")\n",
    "    print(\"tolls_amount\", 100*data[data.tolls_amount<0].shape[0]/float(data.shape[0]),\"%\")\n",
    "    print(\"mta_tax\", 100*data[data.mta_tax<0].shape[0]/float(data.shape[0]),\"%\")\n",
    "    print(\"improvement_surcharge\", 100*data[data.improvement_surcharge<0].shape[0]/float(data.shape[0]),\"%\")\n",
    "    ### remove negative values from the afore metioned continuous variables above\n",
    "    data.total_amount = data.total_amount.abs()\n",
    "    data.tip_amount = data.tip_amount.abs()\n",
    "    data.fare_amount = data.fare_amount.abs()\n",
    "    data.tolls_amount = data.tolls_amount.abs()\n",
    "    data.mta_tax = data.mta_tax.abs()\n",
    "    data.improvement_surcharge = data.improvement_surcharge.abs()\n",
    "    \n",
    "    # Extra\n",
    "    indices_oi = data[~((data.extra==0) | (data.extra==0.5) | (data.extra==1))].index\n",
    "    data.loc[indices_oi, 'extra'] = 0 # 0 was the mode of this variable\n",
    "    print(round(100*len(indices_oi)/float(data.shape[0]),2),\"% of values in extra were invalid and were replaced by the most frequent 0\")\n",
    "    \n",
    "    # RatecodeID\n",
    "    indices_oi = data[~((data.RatecodeID>=1) | (data.RatecodeID<=6))].index\n",
    "    data.loc[indices_oi, 'RatecodeID'] = 1 # 1 was the mode for this variable\n",
    "    print(round(100*len(indices_oi)/float(data.shape[0]),2),\"% of values in RatecodeID were invalid and were replaced by the most frequent 1\")\n",
    "    \n",
    "    # total_amount: the minimum charge is 2.5, so I replaced values less than 2.5 with the median 12.18\n",
    "    indices_oi = data[(data.total_amount<2.5)].index\n",
    "    data.loc[indices_oi,'total_amount'] = 12.18\n",
    "    print(round(100*len(indices_oi)/float(data.shape[0]),2), \"% of values in total amount less than 2.5 and were replaced by the median 12.18\")\n",
    "    \n",
    "    # encode categorical to numeric\n",
    "    if data.store_and_fwd_flag.dtype.name != 'int64':\n",
    "        data['store_and_fwd_flag'] = (data.store_and_fwd_flag=='Y')*1\n",
    "    \n",
    "    # rename time stamp variable and convert to right format\n",
    "    print(\"renaming variables...\")\n",
    "    data.rename(columns={'lpep_pickup_datetime':'Pickup_dt', 'lpep_dropoff_datetime':'Dropoff_dt'}, inplace=True)\n",
    "    print(\"converting timestamps variables to right format...\")\n",
    "    data['Pickup_dt'] = data.Pickup_dt.apply(lambda x:dt.datetime.strptime(x,\"%Y-%m-%d %H:%M:%S\"))\n",
    "    data['Dropoff_dt'] = data.Dropoff_dt.apply(lambda x:dt.datetime.strptime(x,\"%Y-%m-%d %H:%M:%S\"))\n",
    "    \n",
    "    print(\"Done Cleaning\")\n",
    "    return data"
   ]
  },
  {
   "cell_type": "code",
   "execution_count": 4,
   "metadata": {},
   "outputs": [
    {
     "name": "stdout",
     "output_type": "stream",
     "text": [
      "Negative values found and replaced by their absolute values\n",
      "total_amount 0.2960431764892985 %\n",
      "tip_amount 0.002918119038829951 %\n",
      "fare_amount 0.2960431764892985 %\n",
      "tolls_amount 0.00014590595194149755 %\n",
      "mta_tax 0.2865592896131012 %\n",
      "improvement_surcharge 0.28232801700679777 %\n",
      "0.17 % of values in extra were invalid and were replaced by the most frequent 0\n",
      "0.0 % of values in RatecodeID were invalid and were replaced by the most frequent 1\n",
      "0.21 % of values in total amount less than 2.5 and were replaced by the median 12.18\n",
      "renaming variables...\n",
      "converting timestamps variables to right format...\n",
      "Done Cleaning\n"
     ]
    }
   ],
   "source": [
    "# Run code to clean the entire dataset\n",
    "data = clean_data(data)"
   ]
  },
  {
   "cell_type": "markdown",
   "metadata": {},
   "source": [
    "## Feature Engineering\n",
    "In this section, I intuitively created new variables off of existing ones. \n",
    "\n",
    "* **Time variables:** Here time-dependent variables such as **week, day_of_month, day_of_week, hour_of_day, shift_type, trip_duration** were created. These variables could help in determining whether or not a client might be willing to tip depending on the time the trip took place. For example, customers might be willing to tip on weekends, at the end of the second and forth weeks which corresponds to when they receive their paychecks, etc.\n",
    "\n",
    "* **Speed:** This variable is the ration of trip distance to trip duration. Data points (cabs) surpassing the 240mph threshold were dropped since that is the top speed most cars have. \n",
    "\n",
    "* **With Tip:** This is a binary variable indicating whether or not a tip was provided. This variable would come in handy since no tip was given in the majority (60%) of trips.\n",
    "\n",
    "* Tip Percentage: This is the response variable, which is calculated by taking the ratio of the tip_amount to total_amount times 100.\n",
    "\n",
    "\n",
    "**N.B:** if we had coordinates of where the trip originated and where it terminated, we could create two variables that answeres the questions: Was the cab traveling in a vertical direction? Meaning North to South (Direction_NS)? Or was the cab traveling in a horizontal direction? Meaning East to West (Direction_EW)?"
   ]
  },
  {
   "cell_type": "code",
   "execution_count": 5,
   "metadata": {},
   "outputs": [],
   "source": [
    "# Creating a function for feature engineering described above\n",
    "def engineer_features(adata):\n",
    "    \"\"\"\n",
    "    This function helps create new variables for the dataset in question. Variables include:\n",
    "    . week: int {1,2,3,4,5}, week a transaction was made\n",
    "    . day_of_month: int [0-30], day of month a transaction was made\n",
    "    . day_of_week: int [0-6], day of the week a transaction was made\n",
    "    . hour_of_day: int [0-23], hour of day a transaction was made\n",
    "    . trip_duration: float, time it takes to complete the trip\n",
    "    . shift_type: int {1=(7am-3pm), 2=(3pm-11pm), 3=(11pm-7am)}, shift of day a transaction was made\n",
    "    . speed_mph: float, speed of the trip\n",
    "    . with_tip: int {0,1}, 1=transaction with tip, 0=transaction without tip\n",
    "    . Tip_percentage: float, response variable\n",
    "    \n",
    "    input:\n",
    "        adata: pandas.dataframe\n",
    "    output:\n",
    "        pandas.dataframe\n",
    "    \"\"\"\n",
    "    \n",
    "    # make a copy of original dataset\n",
    "    data = adata.copy()\n",
    "    \n",
    "    # create time variables\n",
    "    print(\"creating time variables...\")\n",
    "    ref_week = dt.datetime(2018,12,1).isocalendar()[1] # first week of december 2018\n",
    "    data['week'] = data.Pickup_dt.apply(lambda x:x.isocalendar()[1])-ref_week+1\n",
    "    data['day_of_week'] = data.Pickup_dt.apply(lambda x:x.isocalendar()[2])\n",
    "    data['day_of_month'] = data.Pickup_dt.apply(lambda x:x.day)\n",
    "    data['hour_of_day'] = data.Pickup_dt.apply(lambda x:x.hour)\n",
    "    \n",
    "    # Shift type: 1=(7am to 3pm), 2=(3pm to 11pm), 3=(11pm to 7am)\n",
    "    print(\"creating shift type...\")\n",
    "    data['shift_type'] = np.NAN\n",
    "    data.loc[data[(data.hour_of_day>=7) & (data.hour_of_day<15)].index, 'shift_type'] = 1\n",
    "    data.loc[data[(data.hour_of_day>=15) & (data.hour_of_day<23)].index, 'shift_type'] = 2\n",
    "    data.loc[data[data.shift_type.isnull()].index, 'shift_type'] = 3\n",
    "    \n",
    "    # Trip duration\n",
    "    print(\"Creating trip duration...\")\n",
    "    data['trip_duration'] = ((data.Dropoff_dt-data.Pickup_dt).apply(lambda x:x.total_seconds()/60.))\n",
    "    \n",
    "    # Speed (in mph)\n",
    "    print(\"creating speed variable in mph...\")\n",
    "    data['speed_mph'] = data.trip_distance/(data.trip_duration/60)\n",
    "    # replacing all NAN values and data points greater than 240mph by a value sampled from a random distribution\n",
    "    # mean of 12.12mph and standard deviation of 6.9mph. These values were extracted from the normal distribution\n",
    "    indices_oi = data[(data.speed_mph.isnull()) | (data.speed_mph>240)].index\n",
    "    data.loc[indices_oi,'speed_mph'] = np.abs(np.random.normal(loc=12.12,scale=6.9,size=len(indices_oi)))\n",
    "    \n",
    "    # create tip percentage variable (response variable)\n",
    "    print(\"creating Tip Percentage...\")\n",
    "    data['tip_percentage'] = 100*data.tip_amount/data.total_amount\n",
    "    \n",
    "    # create with_tip variable\n",
    "    print(\"creating With Tip variable...\")\n",
    "    data['with_tip'] = (data.tip_percentage>0)*1\n",
    "    \n",
    "    print(\"Feature Engineering is Done!!!\")\n",
    "    \n",
    "    return data"
   ]
  },
  {
   "cell_type": "markdown",
   "metadata": {},
   "source": [
    "After conducting feature engineering, the **speed_mph** variable had multiple missing values and I imputed those missing values by replacing them by calues sampled from a random normal distribution. To do this, I forst determined the the mean and standard deviations of the *speed_mph* while ignoring the missing values, then used numpy's random.normal function to sample random speed values from a normal distribution. \n",
    "\n",
    "* **Sample code used for determining mean and std:** A = np.array(data['speed_mph']), np.nanmean(A), np.nanstd(A)."
   ]
  },
  {
   "cell_type": "code",
   "execution_count": 6,
   "metadata": {},
   "outputs": [
    {
     "name": "stdout",
     "output_type": "stream",
     "text": [
      "size before feature engineering: (685373, 18)\n",
      "creating time variables...\n",
      "creating shift type...\n",
      "Creating trip duration...\n",
      "creating speed variable in mph...\n",
      "creating Tip Percentage...\n",
      "creating With Tip variable...\n",
      "Feature Engineering is Done!!!\n",
      "size after feature engineering: (685373, 27)\n"
     ]
    }
   ],
   "source": [
    "# run the function to create new features on the dataset\n",
    "print(\"size before feature engineering:\", data.shape)\n",
    "data = engineer_features(data)\n",
    "print(\"size after feature engineering:\", data.shape)"
   ]
  },
  {
   "cell_type": "code",
   "execution_count": 70,
   "metadata": {},
   "outputs": [],
   "source": [
    "# Uncomment to check for data validity\n",
    "# data.describe() .T"
   ]
  },
  {
   "cell_type": "markdown",
   "metadata": {},
   "source": [
    "## Exploratory Data Analysis\n",
    "In this section, I will study the relationship between variables, mainly the distribution of the response *tip_percentage* variable and the correlation between continuous predictor variables. Based on the information deduced in this section, I decided to build the model in two steps:\n",
    "\n",
    "* Create a classification model to predict whether or not a Tip was given using the newly created variable **With_tip**.\n",
    "\n",
    "* Create a regression model for transactions that included Tips."
   ]
  },
  {
   "cell_type": "code",
   "execution_count": 7,
   "metadata": {},
   "outputs": [
    {
     "data": {
      "image/png": "[encoded data removed]",
      "text/plain": [
       "<Figure size 1080x288 with 2 Axes>"
      ]
     },
     "metadata": {
      "needs_background": "light"
     },
     "output_type": "display_data"
    }
   ],
   "source": [
    "# comparison all transactions vs Tippers\n",
    "## split data into two groups\n",
    "data1 = data[data.tip_percentage>0]\n",
    "data2 = data[data.tip_percentage==0]\n",
    "\n",
    "## Generate histograms to compare\n",
    "fig,ax = plt.subplots(1,2,figsize=(15,4))\n",
    "data.tip_percentage.hist(bins=20,normed=True,ax=ax[0],color='g')\n",
    "ax[0].set_xlabel('Tip (%)')\n",
    "ax[0].set_ylabel('Count')\n",
    "ax[0].set_title('Distribution of Tip (%) - All Transactions')\n",
    "\n",
    "\n",
    "data1.tip_percentage.hist(bins=20,normed=True,ax=ax[1])\n",
    "ax[1].set_xlabel('Tip (%)')\n",
    "ax[1].set_ylabel('Group Count')\n",
    "ax[1].set_title('Distribution of Tip (%) - Tippers')\n",
    "plt.savefig('Question4_resp_var.jpeg', format='jpeg')\n",
    "plt.show()"
   ]
  },
  {
   "cell_type": "markdown",
   "metadata": {},
   "source": [
    "The plot on the left shows the distribution of *Tips* for all transactions in this dataset, where the majority of customers (~60%) did not tip (corresponsing to the larger peak at 0%). But the plot on the right representing the distribution of *Tip Percentage* for tippers shows a series of peaks, corresponding to the popular tipping range of 15%-20%, with the largest peak at **18%**."
   ]
  },
  {
   "cell_type": "markdown",
   "metadata": {},
   "source": [
    "Below, a set of functions were implimented to explore the relationships between predictor variables and the response, tip percentage, variable. Two main functions were build, first for the continuous variable exploration and second for the categorical variables exploration. The categorical variable functions was set up to generate either a *histogram* or a *boxplot* (STILL HAVE TO GET THE HISTOGRAM FUNCTION TO WORK-PROVEN-TO TAKE A LOT OF TIME). The third and final function visually and numerically (by statistical tests) explored the differences between customers who tipped and those who did not."
   ]
  },
  {
   "cell_type": "code",
   "execution_count": 8,
   "metadata": {},
   "outputs": [],
   "source": [
    "# Functions of Exploratory Data Analysis\n",
    "## Continuous Variables\n",
    "def visualize_continuous(df,label,method={'type':'histogram','bins':20},outlier='on'):\n",
    "    \"\"\"\n",
    "    this funtion quickly visualizes continuous variables\n",
    "    df: pandas.dataframe\n",
    "    label: name of variable to be plotted. One of the columns in dataframe\n",
    "    method: contains the info of the type of plot to be generated (histogram or boxplot)\n",
    "    outlier: ON- to include outliers and OFF- to exclude outliers. Outliers are defined as any point located 3 standard\n",
    "    deviations away from the mean.\n",
    "    \"\"\"\n",
    "    \n",
    "    # create vector of the variable of interest\n",
    "    v = df[label]\n",
    "    # define mean and standard deviation\n",
    "    m = v.mean()\n",
    "    s = v.std()\n",
    "    # prep the figure\n",
    "    fig,ax = plt.subplots(1,2,figsize=(15,4))\n",
    "    ax[0].set_title('Distribution of '+label)\n",
    "    ax[1].set_title('Tip % by '+label)\n",
    "    if outlier=='off': # remove outliers accordingly and update titles\n",
    "        v = v[(v-m)<=3*s]\n",
    "        ax[0].set_title('Distribution of '+label+' (no outliers)')\n",
    "        ax[1].set_title('Tip % by '+label+' (no outliers)')\n",
    "    if method['type'] == 'histogram': # plot the histogram\n",
    "        v.hist(bins=method['bins'],ax=ax[0])\n",
    "    if method['type'] == 'boxplot': # plot the boxplot\n",
    "        df.loc[v.index].boxplot(label,ax=ax[0])\n",
    "    ax[1].plot(v,df.loc[v.index].tip_percentage,'.',alpha=0.5)\n",
    "    ax[0].set_xlabel(label)\n",
    "    ax[1].set_xlabel(label)\n",
    "    ax[0].set_ylabel('Count')\n",
    "    ax[1].set_ylabel('Tip (%)')\n",
    "    \n",
    "\n",
    "    \n",
    "# comparing customers who tipped and those who did not   \n",
    "def test_classification(df,label,yl=[0,50]):\n",
    "    \"\"\"\n",
    "    This function test if the means of the groups, with_tip and without_tip, are significantly different at 0.05\n",
    "    significance level.\n",
    "    It will also generate a boxplot of the variable by tipping groups\n",
    "    label: str, label to test\n",
    "    yl: tuple pr list (default = [0,50]), is the feault limit of the y-axis on the boxplot\n",
    "    df: pandas.dataframe (default = data)\n",
    "    \"\"\"\n",
    "    \n",
    "    if len(pd.unique(df[label]))==2: # check of the variable is categorical with only two categories then run a chi-squared test\n",
    "        vals = pd.unique(df[label])\n",
    "        gp1 = df[df.with_tip==0][label].value_counts().sort_index()\n",
    "        gp2 = df[df.with_tip==1][label].value_counts().sort_index()\n",
    "        print(\"chi-squared test if\", label, \"can be used to distinguish transaction with tip and without tip\")\n",
    "        print (chisquare(gp1,gp2))\n",
    "    elif len(pd.unique(df[label]))>=10: # otherwise run the welch's t-test, which does not assume equal population variance\n",
    "        df.boxplot(label,by='with_tip')\n",
    "        plt.ylim(yl)\n",
    "        plt.show()\n",
    "        print(\"t-test if\", label, \"can be used to distinguish transaction with tip and without tip\")\n",
    "        print (\"results:\",ttest_ind(df[df.with_tip==0][label].values,df[df.with_tip==1][label].values,equal_var=False))\n",
    "    else:\n",
    "        pass\n",
    "    \n",
    "    \n",
    "    \n",
    "## Categorical variables\n",
    "def visualize_categories(df,catName,chart_type='histogram',ylimit=[None,None]):\n",
    "    \"\"\"\n",
    "    this function helps in visulaizing categorical variables.\n",
    "    this functions calls other functions like generate_boxplot and generate_histogram\n",
    "    df: pandas.dataframe\n",
    "    catName: categorical variable in dataset\n",
    "    chart_type: plot of choice to display (histogram or boxplot)\n",
    "    ylimit: tuple or list. Valid if chart_type is a boxplot\n",
    "    \"\"\"\n",
    "    \n",
    "    # defining the categorical function\n",
    "    print(catName)\n",
    "    cats = sorted(pd.unique(df[catName]))\n",
    "    if chart_type == 'boxplot': # generate boxplot\n",
    "        generate_boxplot(df,catName,ylimit)\n",
    "    elif chart_type == 'histogram': # generate histogram\n",
    "        generate_histogram(df,catName)\n",
    "    else:\n",
    "        pass\n",
    "    \n",
    "    ## calculate test-statistic\n",
    "    groups = df[[catName,'tip_percentage']].groupby(catName).groups # creating groups\n",
    "    tips = df.tip_percentage\n",
    "    if len(cats)<=2: # if there are only two groups use t-test\n",
    "        print(ttest_ind(tips[groups[cats[0]]],tips[groups[cats[1]]]))\n",
    "    else: # if there are more than 2 groups\n",
    "        # prepare the command to evaluate the one-way anova\n",
    "        cmd = \"f_oneway(\"\n",
    "        for cat in cats:\n",
    "            cmd+=\"tips[groups[\"+str(cat)+\"]],\"\n",
    "        cmd=cmd[:-1]+\")\"\n",
    "        print(\"one way anova test:\", eval(cmd)) # evaluate the command and print\n",
    "    print(\"Frequency of categories (%):\\n\",df[catName].value_counts(normalize=True)*100)\n",
    "    \n",
    "    \n",
    "## defining boxplot subfunction\n",
    "def generate_boxplot(df,catName,ylimit):\n",
    "    \"\"\"\n",
    "    generate boxplot of tip percentage by categorical variable (catName) with set ylimit\n",
    "    df: pandas.dataframe\n",
    "    catName: str\n",
    "    ylimit: tuple, list\n",
    "    \"\"\"\n",
    "    df.boxplot('tip_percentage',by=catName)\n",
    "    plt.title('')\n",
    "    plt.ylabel('Tip (%)')\n",
    "    if ylimit != [None,None]:\n",
    "        plt.ylim(ylimit)\n",
    "    plt.show()\n",
    "    \n",
    "## defining histogram subfunction\n",
    "def generate_histogram(df,catName):\n",
    "    \"\"\"\n",
    "    generate histogram of tip percentage by variable \"catName\" with ylim set to ylimit\n",
    "    df: pandas.Dataframe\n",
    "    catName: str\n",
    "    ylimit: tuple, list\n",
    "    \"\"\"\n",
    "    cats = sorted(pd.unique(df[catName]))\n",
    "    colors = plt.cm.jet(np.linspace(0,1,len(cats)))\n",
    "    hx = np.array(map(lambda x:round(x,1),np.histogram(df.tip_percentage,bins=20)[1]))\n",
    "    fig,ax = plt.subplots(1,1,figsize = (15,4))\n",
    "    for i,cat in enumerate(cats):\n",
    "        vals = df[df[catName] == cat].tip_percentage\n",
    "        h = np.histogram(vals,bins=hx)\n",
    "        w = 0.9*(hx[1]-hx[0])/float(len(cats))\n",
    "        plt.bar(hx[:-1]+w*i,h[0],color=colors[i],width=w)\n",
    "    plt.legend(cats)\n",
    "    plt.yscale('log')\n",
    "    plt.title('Distribution of Tip by '+catName)\n",
    "    plt.xlabel('Tip (%)')"
   ]
  },
  {
   "cell_type": "markdown",
   "metadata": {},
   "source": [
    "For the **visualize_continuous** function, when exploring the distribution of the *fare amount* while excluding outliers, the distribution was found to be right skewed, meaning the mean is lesser than the median (left plot). On the other hand, when exploring the relationship between *fare amount* and *tip percentage* while excluding outliers, it was found that most customers gave a 20% and below tip no matter the fare amount payed. "
   ]
  },
  {
   "cell_type": "code",
   "execution_count": 9,
   "metadata": {},
   "outputs": [
    {
     "data": {
      "image/png": "[encoded data removed]",
      "text/plain": [
       "<Figure size 1080x288 with 2 Axes>"
      ]
     },
     "metadata": {
      "needs_background": "light"
     },
     "output_type": "display_data"
    },
    {
     "data": {
      "image/png": "[encoded data removed]",
      "text/plain": [
       "<Figure size 432x288 with 1 Axes>"
      ]
     },
     "metadata": {
      "needs_background": "light"
     },
     "output_type": "display_data"
    },
    {
     "name": "stdout",
     "output_type": "stream",
     "text": [
      "t-test if fare_amount can be used to distinguish transaction with tip and without tip\n",
      "results: Ttest_indResult(statistic=79.74026194900446, pvalue=0.0)\n"
     ]
    }
   ],
   "source": [
    "visualize_continuous(data1,'fare_amount',outlier='off')\n",
    "test_classification(data,'fare_amount',[0,25])"
   ]
  },
  {
   "cell_type": "markdown",
   "metadata": {},
   "source": [
    "For the **test_classification** function, we reject the null hypothesis and conclude that the two groups (with tip and without tip) are significantly different at 0.05 significance level. Thus, with this hypothesis, I have decided the *with_tip* variable would be a significant contributor to predicting tip percentage and will therefore be used in building the classification model that predicts whether or not a tip was given."
   ]
  },
  {
   "cell_type": "markdown",
   "metadata": {},
   "source": [
    "Below, a correlation heat map was used to visualize the correlation between continuous variables. The chunk below provides the construction of the heat map."
   ]
  },
  {
   "cell_type": "code",
   "execution_count": 10,
   "metadata": {},
   "outputs": [
    {
     "data": {
      "image/png": "[encoded data removed]",
      "text/plain": [
       "<Figure size 432x288 with 2 Axes>"
      ]
     },
     "metadata": {
      "needs_background": "light"
     },
     "output_type": "display_data"
    }
   ],
   "source": [
    "continuous_variables = ['total_amount','fare_amount','trip_distance','trip_duration','tolls_amount','speed_mph',\n",
    "                       'tip_percentage']\n",
    "# I will use the the dataset for customers who gave tips\n",
    "cor_mat = data1[continuous_variables].corr()\n",
    "plt.imshow(cor_mat)\n",
    "plt.xticks(range(len(continuous_variables)),continuous_variables,rotation='vertical')\n",
    "plt.yticks(range(len(continuous_variables)),continuous_variables)\n",
    "plt.colorbar()\n",
    "plt.title('Correlation Between Continuous Variables')\n",
    "plt.show()"
   ]
  },
  {
   "cell_type": "markdown",
   "metadata": {},
   "source": [
    "Some high correlations (above 0.5) were seen between *tolls_amount* and variables such as *total_amount, fare_amount, and trip_distance* and also between *speed_mph* and variables such as *total_amount, fare_amount, and trip_distance*. Highly correlated variables might be excluded from modeling the response variable, meaning one in any two highly correlated variables will be eliminated as a predictor of the *Tip percentage* response variable."
   ]
  },
  {
   "cell_type": "markdown",
   "metadata": {},
   "source": [
    "As for categorical variables, the **visualize_categories** function was used, generating both a histogram or boxplot depending on which was more intuitive."
   ]
  },
  {
   "cell_type": "code",
   "execution_count": 11,
   "metadata": {},
   "outputs": [
    {
     "name": "stdout",
     "output_type": "stream",
     "text": [
      "payment_type\n"
     ]
    },
    {
     "data": {
      "image/png": "[encoded data removed]",
      "text/plain": [
       "<Figure size 432x288 with 1 Axes>"
      ]
     },
     "metadata": {
      "needs_background": "light"
     },
     "output_type": "display_data"
    },
    {
     "name": "stdout",
     "output_type": "stream",
     "text": [
      "one way anova test: F_onewayResult(statistic=27.652436044986974, pvalue=9.819499007854318e-13)\n",
      "Frequency of categories (%):\n",
      " 1    99.991211\n",
      "3     0.006697\n",
      "4     0.002093\n",
      "Name: payment_type, dtype: float64\n"
     ]
    }
   ],
   "source": [
    "visualize_categories(data1,'payment_type','boxplot')"
   ]
  },
  {
   "cell_type": "markdown",
   "metadata": {},
   "source": [
    "The plot above compares the medians and range of tip percentage among the different payment methods used. All three payment methods show to have provided about the same median tip percentage but with different ranges. For example, the credit card payment method (represented by 1 and which happens to be the majority of customers-99.99%) shows a narrow range with most customers automatically giving 18% tip percentage. Also, with a p-value lesser than the 0.05 significance level, I reject the null hypothesis and conclude that the three payment methods are significantly different."
   ]
  },
  {
   "cell_type": "markdown",
   "metadata": {},
   "source": [
    "## Model Building\n",
    "As mentioned above, two models, a classification and regression, will be built where the **classification model** will be deciding whether or not a tip was given as opposed to the **regression model** which will be estimating the tip percentage given if the tip was provided."
   ]
  },
  {
   "cell_type": "code",
   "execution_count": 12,
   "metadata": {},
   "outputs": [],
   "source": [
    "# import scikit learn libraries\n",
    "from sklearn import model_selection, metrics # model optimization and evaluation tools\n",
    "from sklearn.model_selection import GridSearchCV # performing grid search for tuning parameters in RF and Boosting\n",
    "\n",
    "# defining a function to train and select optimal model using cross validation\n",
    "def modelfit(alg,dtrain,predictors,response,scoring_method,performCV=True,printFeatureImportance=True,cv_folds=5):\n",
    "    \"\"\"\"\n",
    "    This function trains the model given as 'alg' by performing cross-validation. It works on both regression\n",
    "    and classification.\n",
    "    alg: sklearn model\n",
    "    dtrain: pandas.DataFrame, training set\n",
    "    predictors: list, labels to be used in the training process.\n",
    "    response: str, the response variable\n",
    "    scoring_method: str, cross-validation method used the evaluate model performance\n",
    "    performCV: bool, perform CV or not\n",
    "    printFeatureImportance: bool, plot histogram of feature importance or not\n",
    "    cv_folds: int, dividing data into K equal sized parts for cross validation\n",
    "    \"\"\"\n",
    "    \n",
    "    # train the algorithm on training data\n",
    "    alg.fit(dtrain[predictors],dtrain[response])\n",
    "    # predict on portion of training data\n",
    "    dtrain_predictions = alg.predict(dtrain[predictors])\n",
    "    if scoring_method == 'roc_auc':\n",
    "        dtrain_predprob = alg.predict_proba(dtrain[predictors])[:,1]\n",
    "        \n",
    "    # perform cross-validation\n",
    "    if performCV:\n",
    "        cv_score = model_selection.cross_val_score(alg,dtrain[predictors],dtrain[response],cv=cv_folds,\n",
    "                                                   scoring=scoring_method)\n",
    "    # print model report\n",
    "    print('\\nModel report:')\n",
    "    if scoring_method == 'roc_auc':\n",
    "        print('Accuracy:',metrics.accuracy_score(dtrain[response].values,dtrain_predictions))\n",
    "        print('AUC Score (Train):',metrics.roc_auc_score(dtrain[response],dtrain_predprob))\n",
    "    if scoring_method == 'mean_squared_error':\n",
    "        print('Accuracy:',metrics.mean_squared_error(dtrain[response].values,dtrain_predictions))\n",
    "    if performCV:\n",
    "        print('CV Score - Mean : %.7g | Std : %.7g | Min : %.7g | Max : %.7g' % (np.mean(cv_score),np.std(cv_score),\n",
    "                                                                                np.min(cv_score),np.max(cv_score)))\n",
    "    # print feature importance\n",
    "    if printFeatureImportance:\n",
    "        if dir(alg)[0] == '_Booster': # runs if alg is gradient boosting\n",
    "            feat_imp = pd.Series(alg.booster().get_fscore()).sort_values(ascending=True)\n",
    "        else:\n",
    "            feat_imp = pd.Series(alg.feature_importances_,predictors).sort_values(ascending=True)\n",
    "        feat_imp.plot(kind='barh',title='Feature Importance')\n",
    "        plt.xlabel('Feature Importance Score')\n",
    "        plt.show()\n",
    "        \n",
    "        \n",
    "# defining the optimization function that searches for the optimal tuning parameter\n",
    "def optimize_num_trees(alg,param_test,scoring_method,train,predictors,response):\n",
    "    \"\"\"\n",
    "    This function is used to to tune parameters of a predicitve algorithm\n",
    "    alg: sklearn model\n",
    "    param_test: dict, parameters to be tuned\n",
    "    scoring_method: str, cross-validation method used the eveluate model performance\n",
    "    train: pandas.Dataframe, training data\n",
    "    predictors: list, labels to be used in the model training process\n",
    "    response: str, response variable\n",
    "    \"\"\"\n",
    "    gsearch = GridSearchCV(estimator=alg, param_grid = param_test,scoring=scoring_method,n_jobs=2,iid=False,cv=5)\n",
    "    gsearch.fit(train[predictors],train[response])\n",
    "    return gsearch\n",
    "\n",
    "# defining the functions that plots optimization results\n",
    "def plot_opt_results(alg):\n",
    "    cv_results = []\n",
    "    for i in range(len(param_test['n_estimators'])):\n",
    "        cv_results.append((alg.grid_scores_[i][1],alg.grid_scores_[i][0]['n_estimators']))\n",
    "    cv_results = pd.DataFrame(cv_results)\n",
    "    plt.plot(cv_results[1],cv_results[0])\n",
    "    plt.xlabel('# of Trees')\n",
    "    plt.ylabel('Score')\n",
    "    plt.title('Optimization Report')"
   ]
  },
  {
   "cell_type": "markdown",
   "metadata": {},
   "source": [
    "### Classification Model\n",
    "After spending a considerable amount of time on the Exploratory Data Analysis section, I found out that **payment_type** was the strongest covariate in determining the **with_tip** outcome as **99%** of payments were made using a credit card. Therefore, by optimizing the GradientBoostingClassifier (from scikit learn) model, I was able to obtain an accuracy score of **96%**. The GradientBoostingClassifier (GBM) model is composed of three tuning parameters: the number of trees, depth of trees, and the learning rate. The trees in the GBM model are built one at a time (which takes a long time) and they learn **slowly** since each new tree helps to correct errors made by the previously trained tree. A great application of GBM, and the main reason why it's used in this instance, is that it works well with highly unbalanced data such as DNA sequence or credit card transactions (like in this case).\n",
    "\n",
    "**Worth Noting:**\n",
    "\n",
    "* Sample size of training and optimization was chosen as 100000. This is a small sample size given the amount of observations we have (~600k) but is representative of the general population as it was selected randomly.\n",
    "* ROC-AUC (Area under the curve from the receiver operating characteristic) was used as the model validation metric\n",
    "\n",
    "**Results:**\n",
    "\n",
    "* **optimized number of trees:** 110\n",
    "* **optimized variables:** payment_type, total_amount, trip_duration, trip_distance, extra, shift_type, trip_type\n",
    "* **roc-auc on the test dataset (for model performance purposes):** 96.18%\n",
    "\n",
    "The following code shows the optimization process..."
   ]
  },
  {
   "cell_type": "code",
   "execution_count": 13,
   "metadata": {},
   "outputs": [
    {
     "name": "stdout",
     "output_type": "stream",
     "text": [
      "Optimizing the classifier...\n",
      "{'mean_fit_time': array([ 3.16251931,  5.68544264,  7.12672496,  9.44775677, 11.29091368,\n",
      "       13.41268382, 15.9232379 ]), 'std_fit_time': array([0.24317849, 0.6334006 , 0.18677254, 0.23725267, 0.22853958,\n",
      "       0.34537476, 0.67828349]), 'mean_score_time': array([0.02562008, 0.03681035, 0.04247718, 0.05050411, 0.05771527,\n",
      "       0.06526756, 0.07286954]), 'std_score_time': array([0.00314605, 0.00421998, 0.00074663, 0.00071483, 0.0011894 ,\n",
      "       0.00071078, 0.00381468]), 'param_n_estimators': masked_array(data=[30, 50, 70, 90, 110, 130, 150],\n",
      "             mask=[False, False, False, False, False, False, False],\n",
      "       fill_value='?',\n",
      "            dtype=object), 'params': [{'n_estimators': 30}, {'n_estimators': 50}, {'n_estimators': 70}, {'n_estimators': 90}, {'n_estimators': 110}, {'n_estimators': 130}, {'n_estimators': 150}], 'split0_test_score': array([0.96265804, 0.9803145 , 0.98627762, 0.98938153, 0.99099367,\n",
      "       0.99253029, 0.99334637]), 'split1_test_score': array([0.95933218, 0.97922469, 0.98563809, 0.98874652, 0.99077288,\n",
      "       0.99187715, 0.99280664]), 'split2_test_score': array([0.96156512, 0.97889555, 0.98573607, 0.98892474, 0.99066732,\n",
      "       0.99178788, 0.99283498]), 'split3_test_score': array([0.96368015, 0.98106738, 0.98642437, 0.98985769, 0.99159344,\n",
      "       0.9929996 , 0.99361455]), 'split4_test_score': array([0.96287961, 0.98025493, 0.98626505, 0.98937259, 0.99113085,\n",
      "       0.99224831, 0.99278605]), 'mean_test_score': array([0.96202302, 0.97995141, 0.98606824, 0.98925661, 0.99103163,\n",
      "       0.99228865, 0.99307772]), 'std_test_score': array([0.00150555, 0.00078896, 0.00031773, 0.00039005, 0.00032453,\n",
      "       0.00044397, 0.00033995]), 'rank_test_score': array([7, 6, 5, 4, 3, 2, 1], dtype=int32)} {'n_estimators': 150} 0.993077719352339\n",
      "\n",
      "Model report:\n",
      "Accuracy: 0.9665\n",
      "AUC Score (Train): 0.9943791903141044\n",
      "CV Score - Mean : 0.9930777 | Std : 0.000339952 | Min : 0.992786 | Max : 0.9936146\n"
     ]
    },
    {
     "data": {
      "image/png": "[encoded data removed]",
      "text/plain": [
       "<Figure size 432x288 with 1 Axes>"
      ]
     },
     "metadata": {
      "needs_background": "light"
     },
     "output_type": "display_data"
    },
    {
     "name": "stdout",
     "output_type": "stream",
     "text": [
      "Processing time: 0:04:38.802258\n"
     ]
    }
   ],
   "source": [
    "# Optimization and Training of the Classifier\n",
    "from sklearn.ensemble import GradientBoostingClassifier\n",
    "print('Optimizing the classifier...')\n",
    "\n",
    "train = data.copy() # making a copy of the training dataset\n",
    "# since this dataset is comprised of some 600k obs, i will select a small smaple size to carry on model traning \n",
    "# and 5 folds cross validation because training GBM takes longer because trees are built sequentially.\n",
    "train = train.loc[np.random.choice(train.index,size=100000,replace=False)]\n",
    "\n",
    "# initiate the timing\n",
    "tic = dt.datetime.now()\n",
    "\n",
    "# for predictors, start with the candidates identified during EDA\n",
    "predictors = ['payment_type','total_amount','trip_duration','trip_distance','extra',\n",
    "             'shift_type','trip_type']\n",
    "# set the response variable - it will be used later in the optimization process\n",
    "response = 'with_tip'\n",
    "\n",
    "\n",
    "# optimize n_estimator through grid search\n",
    "param_test = {'n_estimators':range(30,151,20)} # define range over which number of trees is to be optimized\n",
    "\n",
    "\n",
    "# initiate the classification model\n",
    "model_cls = GradientBoostingClassifier(\n",
    "                learning_rate=0.1, # shrinking contribution of each tree\n",
    "                min_samples_split=2, # min number of features required to split an internal node\n",
    "                max_depth=4, # max depth of the individual regression estimator\n",
    "                max_features='auto', # sqrt of number of features used at each split\n",
    "                subsample=0.8, # <1 to decrease variance and increase bias\n",
    "                random_state=10)\n",
    "\n",
    "# get results of the search grid\n",
    "gs_cls = optimize_num_trees(model_cls,param_test,'roc_auc',train,predictors,response)\n",
    "# print optimization results\n",
    "print(gs_cls.cv_results_, gs_cls.best_params_, gs_cls.best_score_)\n",
    "\n",
    "# cross validate the best model with optimized number of estimators\n",
    "modelfit(gs_cls.best_estimator_,train,predictors,response,'roc_auc')\n",
    "\n",
    "# save the best estimator on disk as pickle fpr later use\n",
    "with open('my_classifier.pkl','wb') as fid:\n",
    "    pickle.dump(gs_cls.best_estimator_,fid)\n",
    "    fid.close()\n",
    "    \n",
    "print('Processing time:', dt.datetime.now()-tic)"
   ]
  },
  {
   "cell_type": "markdown",
   "metadata": {},
   "source": [
    "The bar chart above represents the variable importance for this Gradient Boosting model. We see the mean decrease in Gini index for each variable, relative to the largest. The first three variables with the largest mean decrease in Gini index and therefore the most important variables are **payment type, trip duration, and total amount.** The output shows that the optimum number of trees is **110**.\n",
    "\n",
    "Let's now test the model's performance on a data it has never seen (test dataset) and get the resulting ROC-AUC:"
   ]
  },
  {
   "cell_type": "code",
   "execution_count": 14,
   "metadata": {},
   "outputs": [
    {
     "name": "stdout",
     "output_type": "stream",
     "text": [
      "ROC-AUC: 0.9618215992784489\n"
     ]
    }
   ],
   "source": [
    "# testing on a different dataset\n",
    "indices = data.index[~data.index.isin(train.index)]\n",
    "test = data.loc[np.random.choice(indices,size=100000,replace=False)]\n",
    "\n",
    "ypred = gs_cls.best_estimator_.predict(test[predictors])\n",
    "\n",
    "print('ROC-AUC:', metrics.roc_auc_score(ypred,test.with_tip))"
   ]
  },
  {
   "cell_type": "markdown",
   "metadata": {},
   "source": [
    "### Regression Model\n",
    "Using a similar pipeline of optimization as in the classification model, a RandomForest (RF) model was constructed. RF model train each tree independently, using a random sample of the data. This randomness helps the model become more robust than a single decision tree, and less likely to overfit on training data. RF is easier to tune compared to GBM in that RF has only two tuning parameters, the number of trees and the number of features to be selected at each node.\n",
    "\n",
    "**Worth Noting:**\n",
    "\n",
    "* Sample size of training and optimization was chosen as 100000. This is a small sample size given the amount of observations we have (~600k) but is representative of the general population as it was selected randomly.\n",
    "* The Mean Squared Error (MSE) was used as the model validation metric\n",
    "\n",
    "**Results:**\n",
    "\n",
    "* **optimized number of trees:** 150\n",
    "* **optimized variables:** total_amount, trip_duration, speed_mph\n",
    "* **MSE on the test dataset (for model performance purposes):** 11.35\n",
    "\n",
    "The following code shows the optimization process..."
   ]
  },
  {
   "cell_type": "code",
   "execution_count": 42,
   "metadata": {},
   "outputs": [
    {
     "name": "stdout",
     "output_type": "stream",
     "text": [
      "{'mean_fit_time': array([14.13854017, 18.09640346, 24.52961717, 29.87336497, 36.09073544,\n",
      "       47.19317837]), 'std_fit_time': array([0.94884667, 0.46194099, 0.47423281, 0.75583727, 0.93813338,\n",
      "       5.1723072 ]), 'mean_score_time': array([0.61840887, 0.48813834, 0.71066103, 0.7200346 , 1.08591609,\n",
      "       1.65856605]), 'std_score_time': array([0.25605641, 0.09260029, 0.12838606, 0.02604665, 0.21456714,\n",
      "       0.25736495]), 'param_n_estimators': masked_array(data=[50, 75, 100, 125, 150, 175],\n",
      "             mask=[False, False, False, False, False, False],\n",
      "       fill_value='?',\n",
      "            dtype=object), 'params': [{'n_estimators': 50}, {'n_estimators': 75}, {'n_estimators': 100}, {'n_estimators': 125}, {'n_estimators': 150}, {'n_estimators': 175}], 'split0_test_score': array([-10.53651202, -10.68728132, -10.56342697, -10.6748193 ,\n",
      "       -10.46468117, -10.52712396]), 'split1_test_score': array([-13.88729473, -13.72415546, -13.73767223, -13.71611613,\n",
      "       -13.76228946, -13.65149164]), 'split2_test_score': array([-10.58603845, -10.71333206, -10.48819168, -10.56632433,\n",
      "       -10.50523508, -10.48075997]), 'split3_test_score': array([-13.16716739, -13.23172675, -13.20432984, -13.33751778,\n",
      "       -13.174922  , -13.30808283]), 'split4_test_score': array([-11.02752359, -10.85766052, -10.77650837, -10.855729  ,\n",
      "       -10.8031879 , -10.79450278]), 'mean_test_score': array([-11.84090723, -11.84283122, -11.75402582, -11.83010131,\n",
      "       -11.74206312, -11.75239223]), 'std_test_score': array([1.40601588, 1.34536515, 1.41517751, 1.39359725, 1.42669786,\n",
      "       1.41863561]), 'rank_test_score': array([5, 6, 3, 4, 1, 2], dtype=int32)} {'n_estimators': 150} -11.742063121523055\n",
      "\n",
      "Model report:\n",
      "CV Score - Mean : -11.72859 | Std : 1.42749 | Min : -13.75041 | Max : -10.39276\n"
     ]
    },
    {
     "data": {
      "image/png": "[encoded data removed]",
      "text/plain": [
       "<Figure size 432x288 with 1 Axes>"
      ]
     },
     "metadata": {
      "needs_background": "light"
     },
     "output_type": "display_data"
    },
    {
     "name": "stdout",
     "output_type": "stream",
     "text": [
      "RFR test mse: 11.353023386807763\n",
      "RFR r2: 0.3110123446125317\n",
      "dt.datetime.now()-tic\n"
     ]
    },
    {
     "ename": "AttributeError",
     "evalue": "'GridSearchCV' object has no attribute 'grid_scores_'",
     "output_type": "error",
     "traceback": [
      "\u001b[0;31m---------------------------------------------------------------------------\u001b[0m",
      "\u001b[0;31mAttributeError\u001b[0m                            Traceback (most recent call last)",
      "\u001b[0;32m<ipython-input-42-f91c57cd329f>\u001b[0m in \u001b[0;36m<module>\u001b[0;34m\u001b[0m\n\u001b[1;32m     48\u001b[0m \u001b[0mprint\u001b[0m\u001b[0;34m(\u001b[0m\u001b[0;34m\"RFR r2:\"\u001b[0m\u001b[0;34m,\u001b[0m\u001b[0mmetrics\u001b[0m\u001b[0;34m.\u001b[0m\u001b[0mr2_score\u001b[0m\u001b[0;34m(\u001b[0m\u001b[0mypred\u001b[0m\u001b[0;34m,\u001b[0m\u001b[0mtest\u001b[0m\u001b[0;34m.\u001b[0m\u001b[0mtip_percentage\u001b[0m\u001b[0;34m)\u001b[0m\u001b[0;34m)\u001b[0m\u001b[0;34m\u001b[0m\u001b[0;34m\u001b[0m\u001b[0m\n\u001b[1;32m     49\u001b[0m \u001b[0mprint\u001b[0m\u001b[0;34m(\u001b[0m\u001b[0;34m\"dt.datetime.now()-tic\"\u001b[0m\u001b[0;34m)\u001b[0m\u001b[0;34m\u001b[0m\u001b[0;34m\u001b[0m\u001b[0m\n\u001b[0;32m---> 50\u001b[0;31m \u001b[0mplot_opt_results\u001b[0m\u001b[0;34m(\u001b[0m\u001b[0mgs_rfmodel\u001b[0m\u001b[0;34m)\u001b[0m\u001b[0;34m\u001b[0m\u001b[0;34m\u001b[0m\u001b[0m\n\u001b[0m",
      "\u001b[0;32m<ipython-input-12-aff5da3de754>\u001b[0m in \u001b[0;36mplot_opt_results\u001b[0;34m(alg)\u001b[0m\n\u001b[1;32m     69\u001b[0m     \u001b[0mcv_results\u001b[0m \u001b[0;34m=\u001b[0m \u001b[0;34m[\u001b[0m\u001b[0;34m]\u001b[0m\u001b[0;34m\u001b[0m\u001b[0;34m\u001b[0m\u001b[0m\n\u001b[1;32m     70\u001b[0m     \u001b[0;32mfor\u001b[0m \u001b[0mi\u001b[0m \u001b[0;32min\u001b[0m \u001b[0mrange\u001b[0m\u001b[0;34m(\u001b[0m\u001b[0mlen\u001b[0m\u001b[0;34m(\u001b[0m\u001b[0mparam_test\u001b[0m\u001b[0;34m[\u001b[0m\u001b[0;34m'n_estimators'\u001b[0m\u001b[0;34m]\u001b[0m\u001b[0;34m)\u001b[0m\u001b[0;34m)\u001b[0m\u001b[0;34m:\u001b[0m\u001b[0;34m\u001b[0m\u001b[0;34m\u001b[0m\u001b[0m\n\u001b[0;32m---> 71\u001b[0;31m         \u001b[0mcv_results\u001b[0m\u001b[0;34m.\u001b[0m\u001b[0mappend\u001b[0m\u001b[0;34m(\u001b[0m\u001b[0;34m(\u001b[0m\u001b[0malg\u001b[0m\u001b[0;34m.\u001b[0m\u001b[0mgrid_scores_\u001b[0m\u001b[0;34m[\u001b[0m\u001b[0mi\u001b[0m\u001b[0;34m]\u001b[0m\u001b[0;34m[\u001b[0m\u001b[0;36m1\u001b[0m\u001b[0;34m]\u001b[0m\u001b[0;34m,\u001b[0m\u001b[0malg\u001b[0m\u001b[0;34m.\u001b[0m\u001b[0mgrid_scores_\u001b[0m\u001b[0;34m[\u001b[0m\u001b[0mi\u001b[0m\u001b[0;34m]\u001b[0m\u001b[0;34m[\u001b[0m\u001b[0;36m0\u001b[0m\u001b[0;34m]\u001b[0m\u001b[0;34m[\u001b[0m\u001b[0;34m'n_estimators'\u001b[0m\u001b[0;34m]\u001b[0m\u001b[0;34m)\u001b[0m\u001b[0;34m)\u001b[0m\u001b[0;34m\u001b[0m\u001b[0;34m\u001b[0m\u001b[0m\n\u001b[0m\u001b[1;32m     72\u001b[0m     \u001b[0mcv_results\u001b[0m \u001b[0;34m=\u001b[0m \u001b[0mpd\u001b[0m\u001b[0;34m.\u001b[0m\u001b[0mDataFrame\u001b[0m\u001b[0;34m(\u001b[0m\u001b[0mcv_results\u001b[0m\u001b[0;34m)\u001b[0m\u001b[0;34m\u001b[0m\u001b[0;34m\u001b[0m\u001b[0m\n\u001b[1;32m     73\u001b[0m     \u001b[0mplt\u001b[0m\u001b[0;34m.\u001b[0m\u001b[0mplot\u001b[0m\u001b[0;34m(\u001b[0m\u001b[0mcv_results\u001b[0m\u001b[0;34m[\u001b[0m\u001b[0;36m1\u001b[0m\u001b[0;34m]\u001b[0m\u001b[0;34m,\u001b[0m\u001b[0mcv_results\u001b[0m\u001b[0;34m[\u001b[0m\u001b[0;36m0\u001b[0m\u001b[0;34m]\u001b[0m\u001b[0;34m)\u001b[0m\u001b[0;34m\u001b[0m\u001b[0;34m\u001b[0m\u001b[0m\n",
      "\u001b[0;31mAttributeError\u001b[0m: 'GridSearchCV' object has no attribute 'grid_scores_'"
     ]
    }
   ],
   "source": [
    "train = data1.copy()\n",
    "train = train.loc[np.random.choice(train.index,size=100000,replace=False)]\n",
    "indices = data1.index[~data1.index.isin(train.index)]\n",
    "test = data1.loc[np.random.choice(indices,size=100000,replace=False)]\n",
    "\n",
    "train['ID'] = train.index\n",
    "IDCol = 'ID'\n",
    "# set the response variable\n",
    "response = 'tip_percentage'\n",
    "# set the predictor variables\n",
    "predictors = ['VendorID','passenger_count','trip_distance','total_amount','extra','mta_tax','tolls_amount',\n",
    "             'payment_type','hour_of_day','week','day_of_week','day_of_month','shift_type','trip_duration',\n",
    "             'speed_mph']\n",
    "predictors = ['trip_distance','tolls_amount','trip_duration','speed_mph']\n",
    "predictors = ['total_amount','trip_duration','speed_mph']\n",
    "\n",
    "# optimizing the randomForest\n",
    "## initiating the time\n",
    "tic = dt.datetime.now()\n",
    "# importing the necessary library\n",
    "from sklearn.ensemble import RandomForestRegressor\n",
    "from sklearn.metrics import mean_squared_error\n",
    "# optimize n_estimator through grid search\n",
    "param_test = {'n_estimators':range(50,200,25)} # define range over which number of trees is to be optimized\n",
    "# initiate classification model\n",
    "# rf_model = RandomForestRegressor(min_samples_split=2, max_depth=5, max_features='auto',random_state=10)\n",
    "\n",
    "rf_model = RandomForestRegressor()#n_estimators=100)\n",
    "\n",
    "# get results of the grid search\n",
    "gs_rfmodel = optimize_num_trees(rf_model,param_test,'neg_mean_squared_error',train,predictors,response)\n",
    "\n",
    "# print optimization results\n",
    "print(gs_rfmodel.cv_results_, gs_rfmodel.best_params_, gs_rfmodel.best_score_)\n",
    "\n",
    "\n",
    "# cross validate the best model with optimized number of estimators\n",
    "modelfit(gs_rfmodel.best_estimator_,train,predictors,response,'neg_mean_squared_error')\n",
    "\n",
    "# save the best estimator on disk as pickle for a later use\n",
    "with open('my_rfmodel_reg2.pkl','wb') as fid:\n",
    "    pickle.dump(gs_rfmodel.best_estimator_,fid)\n",
    "    fid.close()\n",
    "    \n",
    "ypred = gs_rfmodel.best_estimator_.predict(test[predictors])\n",
    "\n",
    "print(\"RFR test mse:\",metrics.mean_squared_error(ypred,test.tip_percentage))\n",
    "print(\"RFR r2:\",metrics.r2_score(ypred,test.tip_percentage))\n",
    "print(\"dt.datetime.now()-tic\")\n",
    "plot_opt_results(gs_rfmodel)"
   ]
  },
  {
   "cell_type": "markdown",
   "metadata": {},
   "source": [
    "The bar chart above represents the variable importance in this RandomForest model. We see the mean decrease in Gini index for each variable, relative to the largest. The variable with the largest mean decrease in Gini index and therefore the most important variable is **total amount**. The output shows that the optimum number of trees is **150**."
   ]
  },
  {
   "cell_type": "markdown",
   "metadata": {},
   "source": [
    "### Final Model\n"
   ]
  },
  {
   "cell_type": "code",
   "execution_count": null,
   "metadata": {},
   "outputs": [],
   "source": []
  }
 ],
 "metadata": {
  "kernelspec": {
   "display_name": "Python 3",
   "language": "python",
   "name": "python3"
  },
  "language_info": {
   "codemirror_mode": {
    "name": "ipython",
    "version": 3
   },
   "file_extension": ".py",
   "mimetype": "text/x-python",
   "name": "python",
   "nbconvert_exporter": "python",
   "pygments_lexer": "ipython3",
   "version": "3.7.6"
  }
 },
 "nbformat": 4,
 "nbformat_minor": 4
}
